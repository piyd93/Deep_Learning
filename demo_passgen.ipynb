{
 "cells": [
  {
   "cell_type": "code",
   "execution_count": 1,
   "metadata": {},
   "outputs": [],
   "source": [
    "import random\n",
    "def randomString(stringLength=4):\n",
    "    \"\"\"Generate a random string of fixed length \"\"\"\n",
    "    letters = string.ascii_lowercase\n",
    "    return ''.join(random.choice(letters) for i in range(stringLength))\n"
   ]
  },
  {
   "cell_type": "code",
   "execution_count": null,
   "metadata": {},
   "outputs": [],
   "source": [
    "# ganip = open(\"data/rockyou_6k.txt\",\"r\",errors='ignore')\n",
    "from fuzzywuzzy import fuzz\n",
    "from fuzzywuzzy import process\n",
    "import matplotlib.pyplot as plt \n",
    "from password_strength import PasswordStats\n",
    "import numpy as np\n",
    "%matplotlib inline\n",
    "import string\n",
    "\n",
    "\n",
    "ganop = open(\"GAN_output.txt\", \"r\" , errors = 'ignore')\n",
    "user = input()\n",
    "count = 0\n",
    "list_best = []\n",
    "x_list = []\n",
    "low_score = 50\n",
    "c=0\n",
    "keys=randomString()\n",
    "ganrange=ganop.readlines()\n",
    "for j in ganrange:\n",
    "    list_best.append(fuzz.ratio(user, j))\n",
    "        \n",
    "print(max(list_best))\n",
    "for count in range(0,len(ganrange)):\n",
    "    x_list.append(count)\n",
    "\n",
    "for i in list_best : \n",
    "    if i > low_score : \n",
    "        c +=1\n",
    "\n",
    "#highest match\n",
    "maxpos = list_best.index(max(list_best))         \n",
    "\n",
    "print(\"your input->\", user)\n",
    "with open(\"75files_GAN.txt\", \"r\" ,errors = 'ignore') as f:\n",
    "    line_needed = f.read().split('\\n')[maxpos]\n",
    "if len(line_needed) <  10 and len(user) >= 5:\n",
    "    ##############\n",
    "    print('')\n",
    "    print(\"recommendation:->\",line_needed)\n",
    "# else:\n",
    "#     print(\"recommendation:->\" ,line_needed )\n",
    "    \n",
    "print(\"%match:\",max(list_best))\n",
    "res = [] \n",
    "for i in list_best: \n",
    "    if i not in res: \n",
    "        res.append(i) \n",
    "res.sort()\n",
    "second=res[-2]\n",
    "\n",
    "maxnext = list_best.index(second) \n",
    "\n",
    "with open(\"75files_GAN.txt\", \"r\",errors = 'ignore') as f:\n",
    "    nxword = f.read().split('\\n')[maxnext]        \n",
    "\n",
    "if len(line_needed) < 10 and len(line_needed) >= 5:\n",
    "     print(\"next match:->\",line_needed.rstrip('\\n') + keys)\n",
    "# else:\n",
    "#      print('next match',nxword.rstrip('\\n') + keys)\n",
    "\n"
   ]
  },
  {
   "cell_type": "code",
   "execution_count": null,
   "metadata": {},
   "outputs": [],
   "source": []
  }
 ],
 "metadata": {
  "kernelspec": {
   "display_name": "Python 3",
   "language": "python",
   "name": "python3"
  },
  "language_info": {
   "codemirror_mode": {
    "name": "ipython",
    "version": 3
   },
   "file_extension": ".py",
   "mimetype": "text/x-python",
   "name": "python",
   "nbconvert_exporter": "python",
   "pygments_lexer": "ipython3",
   "version": "3.7.3"
  }
 },
 "nbformat": 4,
 "nbformat_minor": 2
}
